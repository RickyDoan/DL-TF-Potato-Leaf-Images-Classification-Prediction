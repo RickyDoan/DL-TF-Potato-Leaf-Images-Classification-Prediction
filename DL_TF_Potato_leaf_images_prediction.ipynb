{
  "nbformat": 4,
  "nbformat_minor": 0,
  "metadata": {
    "colab": {
      "private_outputs": true,
      "provenance": [],
      "machine_shape": "hm",
      "mount_file_id": "1Ubv1quTiciQbIokVIqn9iDIKt5zym5mB",
      "authorship_tag": "ABX9TyMftAINytQx7N0CTq9pxH1u",
      "include_colab_link": true
    },
    "kernelspec": {
      "name": "python3",
      "display_name": "Python 3"
    },
    "language_info": {
      "name": "python"
    }
  },
  "cells": [
    {
      "cell_type": "markdown",
      "metadata": {
        "id": "view-in-github",
        "colab_type": "text"
      },
      "source": [
        "<a href=\"https://colab.research.google.com/github/RickyDoan/DL-TF-Potato-Leaf-Images-Classification-Prediction/blob/main/DL_TF_Potato_leaf_images_prediction.ipynb\" target=\"_parent\"><img src=\"https://colab.research.google.com/assets/colab-badge.svg\" alt=\"Open In Colab\"/></a>"
      ]
    },
    {
      "cell_type": "code",
      "source": [
        "# from google.colab import drive\n",
        "# drive.mount('/content/drive')"
      ],
      "metadata": {
        "id": "dkIsbmk8kjyZ"
      },
      "execution_count": null,
      "outputs": []
    },
    {
      "cell_type": "code",
      "source": [
        "import tensorflow as tf\n",
        "from tensorflow import keras\n",
        "from tensorflow.keras import layers\n",
        "import numpy as np\n",
        "import matplotlib.pyplot as plt\n",
        "import pandas as pd"
      ],
      "metadata": {
        "id": "9LW5or5JlZqu"
      },
      "execution_count": null,
      "outputs": []
    },
    {
      "cell_type": "code",
      "source": [
        "tf.config.list_physical_devices('GPU')"
      ],
      "metadata": {
        "id": "2kl_zK5SV1gb"
      },
      "execution_count": null,
      "outputs": []
    },
    {
      "cell_type": "code",
      "source": [
        "# # prompt: write the code to unzip a file\n",
        "\n",
        "# import zipfile\n",
        "\n",
        "# # Replace 'your_zip_file.zip' with the actual name of your zip file\n",
        "# with zipfile.ZipFile('/content/drive/MyDrive/A Tensor Flow/Tomato-leaf-desease-detection_copy/PlantVillage.zip', 'r') as zip_ref:\n",
        "#     zip_ref.extractall('/content/drive/MyDrive/A Tensor Flow/Tomato-leaf-desease-detection_copy/PlantVillage') # Replace with desired extraction path\n"
      ],
      "metadata": {
        "id": "A61WUz8_mU8O"
      },
      "execution_count": null,
      "outputs": []
    },
    {
      "cell_type": "code",
      "source": [
        "image_size = (256,256)\n",
        "batch_size = 32"
      ],
      "metadata": {
        "id": "6VcMSi9botiH"
      },
      "execution_count": null,
      "outputs": []
    },
    {
      "cell_type": "code",
      "source": [
        "data_dir = '/content/drive/MyDrive/A Tensor Flow/Tomato-leaf-desease-detection_copy/PlantVillage/PlantVillage'"
      ],
      "metadata": {
        "id": "s0dfY_zxUupV"
      },
      "execution_count": null,
      "outputs": []
    },
    {
      "cell_type": "code",
      "source": [
        "dataset = tf.keras.preprocessing.image_dataset_from_directory(\n",
        "    '/content/drive/MyDrive/A Tensor Flow/Tomato-leaf-desease-detection_copy/PlantVillage/PlantVillage',\n",
        "    seed = 123,\n",
        "    shuffle = True,\n",
        "    image_size = (256,256),\n",
        "    batch_size = 32\n",
        ")"
      ],
      "metadata": {
        "id": "UpzufMuWnemr"
      },
      "execution_count": null,
      "outputs": []
    },
    {
      "cell_type": "code",
      "source": [
        "dataset.class_names"
      ],
      "metadata": {
        "id": "BHe6P4EYoymY"
      },
      "execution_count": null,
      "outputs": []
    },
    {
      "cell_type": "code",
      "source": [
        "for image_batch, labels_batch in dataset.take(1):\n",
        "    print(image_batch.shape)\n",
        "    print(labels_batch.numpy())"
      ],
      "metadata": {
        "id": "TDZVE37uo1KZ"
      },
      "execution_count": null,
      "outputs": []
    },
    {
      "cell_type": "code",
      "source": [
        "plt.figure(figsize=(10,10))\n",
        "for i in range(12):\n",
        "    ax = plt.subplot(3,4,i+1)\n",
        "    plt.imshow(image_batch[i].numpy().astype('uint8'))\n",
        "    plt.title(dataset.class_names[labels_batch[i]])\n",
        "    plt.axis('off')"
      ],
      "metadata": {
        "id": "Hk1Li1o_rDn9"
      },
      "execution_count": null,
      "outputs": []
    },
    {
      "cell_type": "code",
      "source": [
        "train_ds = tf.keras.preprocessing.image_dataset_from_directory(\n",
        "    data_dir,\n",
        "    validation_split = 0.2,\n",
        "    subset = 'training',\n",
        "    seed = 123,\n",
        "    image_size = image_size,\n",
        "    batch_size = batch_size\n",
        ")\n",
        "val_ds = tf.keras.preprocessing.image_dataset_from_directory(\n",
        "    data_dir,\n",
        "    validation_split = 0.2,\n",
        "    subset = 'validation',\n",
        "    seed = 123,\n",
        "    image_size = image_size,\n",
        "    batch_size = batch_size\n",
        ")"
      ],
      "metadata": {
        "id": "5-GkoaiFUZK6"
      },
      "execution_count": null,
      "outputs": []
    },
    {
      "cell_type": "code",
      "source": [
        "num_classes = len(dataset.class_names)\n",
        "num_classes"
      ],
      "metadata": {
        "id": "itJ26HbbVBv0"
      },
      "execution_count": null,
      "outputs": []
    },
    {
      "cell_type": "code",
      "source": [
        "model = keras.Sequential([\n",
        "    keras.layers.Rescaling(1./255),\n",
        "    layers.Conv2D(16,3,padding='same',activation='relu'),\n",
        "    layers.MaxPooling2D(pool_size=(2,2)),\n",
        "    layers.Conv2D(32,3,padding='same',activation='relu'),\n",
        "    layers.MaxPooling2D(pool_size=(2,2)),\n",
        "    layers.Conv2D(64,3,padding='same',activation='relu'),\n",
        "    layers.MaxPooling2D(pool_size=(2,2)),\n",
        "    layers.Flatten(),\n",
        "    layers.Dense(128,activation='relu'),\n",
        "    layers.Dense(num_classes)\n",
        "])\n",
        "\n",
        "model.compile(optimizer='adam',\n",
        "              loss=tf.keras.losses.SparseCategoricalCrossentropy(from_logits=True),\n",
        "              metrics=['accuracy'])"
      ],
      "metadata": {
        "id": "F3yxkfnnVHzg"
      },
      "execution_count": null,
      "outputs": []
    },
    {
      "cell_type": "code",
      "source": [
        "with tf.device('/device:GPU:0'):\n",
        "    epochs = 50\n",
        "    history = model.fit(\n",
        "        train_ds,\n",
        "        validation_data = val_ds,\n",
        "        epochs = epochs\n",
        "    )"
      ],
      "metadata": {
        "id": "WAjEb52qVnBC"
      },
      "execution_count": null,
      "outputs": []
    },
    {
      "cell_type": "code",
      "source": [
        "model.evaluate(val_ds)"
      ],
      "metadata": {
        "id": "YXisxOUsWlIn"
      },
      "execution_count": null,
      "outputs": []
    },
    {
      "cell_type": "code",
      "source": [
        "y_true = []\n",
        "for images, labels in val_ds:\n",
        "    y_true.extend(labels.numpy())"
      ],
      "metadata": {
        "id": "pG7ZWJUUXxC_"
      },
      "execution_count": null,
      "outputs": []
    },
    {
      "cell_type": "code",
      "source": [
        "classes_name = train_ds.class_names\n",
        "classes_name"
      ],
      "metadata": {
        "id": "UQmOkf9RZFIo"
      },
      "execution_count": null,
      "outputs": []
    },
    {
      "cell_type": "code",
      "source": [
        "from sklearn.metrics import classification_report, confusion_matrix\n",
        "\n",
        "y_pred_all = []  # To store all predictions\n",
        "y_true_all = []  # To store all true labels\n",
        "\n",
        "for image_batch, label_batch in val_ds:\n",
        "  y_pred = model.predict(image_batch)\n",
        "  y_pred = np.argmax(y_pred, axis=1)\n",
        "\n",
        "  y_pred_all.extend(y_pred)  # Accumulate predictions\n",
        "  y_true_all.extend(label_batch.numpy())  # Accumulate true labels\n",
        "\n",
        "print(classification_report(y_true_all, y_pred_all, target_names=classes_name))\n"
      ],
      "metadata": {
        "id": "beytxF7SWme3"
      },
      "execution_count": null,
      "outputs": []
    },
    {
      "cell_type": "code",
      "source": [
        "import random\n",
        "\n",
        "def predict_random_images(model, dataset, num_images=20):\n",
        "    \"\"\"Predicts the class of random images from the dataset.\n",
        "\n",
        "    Args:\n",
        "        model: The trained model.\n",
        "        dataset: The image dataset.\n",
        "        num_images: The number of random images to predict.\n",
        "    \"\"\"\n",
        "\n",
        "    # Get a list of image batches and labels from the dataset\n",
        "    image_batches, label_batches = zip(*list(dataset.as_numpy_iterator()))\n",
        "\n",
        "    # Flatten the batches into a single list\n",
        "    all_images = [image for batch in image_batches for image in batch]\n",
        "    all_labels = [label for batch in label_batches for label in batch]\n",
        "\n",
        "    # Select random image indices\n",
        "    random_indices = random.sample(range(len(all_images)), num_images)\n",
        "    fig, axes = plt.subplots(4, 5, figsize=(20, 15))\n",
        "    axes = axes.flatten()\n",
        "    for idx, index in enumerate(random_indices):\n",
        "        image = all_images[index]\n",
        "        true_label = all_labels[index]\n",
        "\n",
        "        # Reshape to fit model's expected input shape\n",
        "        image = tf.expand_dims(image, 0)\n",
        "\n",
        "        prediction = model.predict(image)\n",
        "        predicted_class = np.argmax(prediction)\n",
        "\n",
        "        # print(f\"Image Index: {index}\")\n",
        "        # print(f\"True Label: {classes_name[true_label]}\")\n",
        "        # print(f\"Predicted Label: {classes_name[predicted_class]}\")\n",
        "        axes[idx].imshow(all_images[index].astype(\"uint8\"))\n",
        "        axes[idx].set_title(f\"True: {classes_name[true_label]}\\nPredicted: {classes_name[predicted_class]}\")\n",
        "        axes[idx].axis(\"off\")\n",
        "    plt.show()\n",
        "    plt.tight_layout()\n",
        "\n",
        "# Example usage (assuming 'model' and 'val_ds' are defined as in your previous code)\n",
        "predict_random_images(model, dataset)"
      ],
      "metadata": {
        "id": "vw9SYJ0YXghn"
      },
      "execution_count": null,
      "outputs": []
    },
    {
      "cell_type": "code",
      "source": [
        "# prompt: wirte code to save my model\n",
        "\n",
        "model.save('my_model')\n",
        "# or to save in a specific directory\n",
        "# model.save('/content/drive/MyDrive/saved_models/my_model')\n"
      ],
      "metadata": {
        "id": "3ZSMD43uc_nj"
      },
      "execution_count": null,
      "outputs": []
    },
    {
      "cell_type": "code",
      "source": [
        "from joblib import dump\n",
        "dump(model, '/content/drive/MyDrive/A Tensor Flow/model_Tomato-leaf.joblib')"
      ],
      "metadata": {
        "id": "LlzBKdKIgzPB"
      },
      "execution_count": null,
      "outputs": []
    }
  ]
}